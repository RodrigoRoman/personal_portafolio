{
 "cells": [
  {
   "cell_type": "markdown",
   "metadata": {},
   "source": [
    "<h1>Basic regular expression patterns</h1>\n",
    "<p>\n",
    "Regular expressions are powerful tools used to identify specific patterns within text. They are integral to various applications across programming languages and software tools, enabling precise searches and manipulations of text strings. Regex uses a defined syntax recognized by a processing engine, making it universally applicable from simple text editing to complex data analysis tasks.\n",
    "</p>\n",
    "<p>\n",
    "In this Jupyter notebook, we will introduce regexs by using Python's re module. The notebook presents the foundational elements of regex such as character classes, quantifiers, and anchors, and how they are used to create complex patterns. There is also an introduction to advanced regex functionalities including grouping, capturing, and look-ahead assertions to handle tricky text processing scenarios.\n",
    "</p>\n"
   ]
  },
  {
   "cell_type": "code",
   "execution_count": 1,
   "metadata": {},
   "outputs": [],
   "source": [
    "import numpy as np    # Import the numpy library to enable numerical operations on arrays and matrices.\n",
    "import re             # Import the re module to utilize regular expressions."
   ]
  },
  {
   "cell_type": "markdown",
   "metadata": {},
   "source": [
    "<h2>Concatenation</h2>\n",
    "<p>Search for a specific word using regular expressions</p>"
   ]
  },
  {
   "cell_type": "code",
   "execution_count": 2,
   "metadata": {},
   "outputs": [
    {
     "data": {
      "text/plain": [
       "['woodchunks']"
      ]
     },
     "execution_count": 2,
     "metadata": {},
     "output_type": "execute_result"
    }
   ],
   "source": [
    "re.findall(r\"woodchunks\", \"I gathered a pile of woodchunks to keep the campfire burning.\")"
   ]
  },
  {
   "cell_type": "markdown",
   "metadata": {},
   "source": [
    "<p>The following code doesn't find any matches because of the case difference:</p>"
   ]
  },
  {
   "cell_type": "code",
   "execution_count": 3,
   "metadata": {},
   "outputs": [
    {
     "data": {
      "text/plain": [
       "[]"
      ]
     },
     "execution_count": 3,
     "metadata": {},
     "output_type": "execute_result"
    }
   ],
   "source": [
    "re.findall(r\"Woodchunks\", \"I gathered a pile of woodchunks to keep the campfire burning.\")"
   ]
  },
  {
   "cell_type": "markdown",
   "metadata": {},
   "source": [
    "<p>We can use square brackets [] to specify a disjunction of characters to match</p>"
   ]
  },
  {
   "cell_type": "code",
   "execution_count": 4,
   "metadata": {},
   "outputs": [
    {
     "data": {
      "text/plain": [
       "['woodchunks']"
      ]
     },
     "execution_count": 4,
     "metadata": {},
     "output_type": "execute_result"
    }
   ],
   "source": [
    "re.findall(r\"[Ww]oodchunks\", \"I gathered a pile of woodchunks to keep the campfire burning.\")"
   ]
  },
  {
   "cell_type": "markdown",
   "metadata": {},
   "source": [
    "<p>Square brackets can also define a range of characters. The dash - within the brackets specifies a range of characters, like [a-z] for lowercase letters or [b-g] for a subset of them</p>"
   ]
  },
  {
   "cell_type": "code",
   "execution_count": 5,
   "metadata": {},
   "outputs": [
    {
     "data": {
      "text/plain": [
       "['T', 'G', 'T', 'T', 'H', 'A']"
      ]
     },
     "execution_count": 5,
     "metadata": {},
     "output_type": "execute_result"
    }
   ],
   "source": [
    "re.findall(r\"[A-Z]\", \"The Greeks enter Troy using the Trojan Horse on April 24, 1184\")"
   ]
  },
  {
   "cell_type": "markdown",
   "metadata": {},
   "source": [
    "<p>You can extend the character set in the pattern as follows</p>"
   ]
  },
  {
   "cell_type": "code",
   "execution_count": 9,
   "metadata": {},
   "outputs": [
    {
     "data": {
      "text/plain": [
       "['Th', 'Gr', 'Tr', 'Tr', 'Ho', 'Ap']"
      ]
     },
     "execution_count": 9,
     "metadata": {},
     "output_type": "execute_result"
    }
   ],
   "source": [
    "re.findall(r\"[A-Z][a-z]\", \"The Greeks enter Troy using the Trojan Horse on April 24, 1184\")"
   ]
  },
  {
   "cell_type": "markdown",
   "metadata": {},
   "source": [
    "<p>If you place a caret ^ at the beginning of a square bracket expression, it negates the pattern. For example, [^a] matches any single character except a</p>"
   ]
  },
  {
   "cell_type": "code",
   "execution_count": 12,
   "metadata": {},
   "outputs": [
    {
     "data": {
      "text/plain": [
       "['2', '4', ',', '1', '1', '8', '4']"
      ]
     },
     "execution_count": 12,
     "metadata": {},
     "output_type": "execute_result"
    }
   ],
   "source": [
    "re.findall(r\"[^A-Za-z ]\", \"The Greeks enter Troy using the Trojan Horse on April 24, 1184\")"
   ]
  },
  {
   "cell_type": "markdown",
   "metadata": {},
   "source": [
    "<p>This negation only applies when the caret is the first symbol after the opening square bracket</p>"
   ]
  },
  {
   "cell_type": "code",
   "execution_count": 14,
   "metadata": {},
   "outputs": [
    {
     "data": {
      "text/plain": [
       "['a', '^', 'b']"
      ]
     },
     "execution_count": 14,
     "metadata": {},
     "output_type": "execute_result"
    }
   ],
   "source": [
    "re.findall(r\"[a^b]\", \"look up a^b now\")"
   ]
  },
  {
   "cell_type": "markdown",
   "metadata": {},
   "source": [
    "<p>To introduce optional elements, such as an optional s in woodchunks, you use the question mark ?. It signifies that the preceding character may appear zero or one time, making it optional</p>"
   ]
  },
  {
   "cell_type": "code",
   "execution_count": 15,
   "metadata": {},
   "outputs": [
    {
     "data": {
      "text/plain": [
       "['woodchunks']"
      ]
     },
     "execution_count": 15,
     "metadata": {},
     "output_type": "execute_result"
    }
   ],
   "source": [
    "re.findall(r\"woodchunks?\", \"I gathered a pile of woodchunks to keep the campfire burning.\")"
   ]
  },
  {
   "cell_type": "markdown",
   "metadata": {},
   "source": [
    "<p>Allow for any character to appear in a particular position with the wildcard operator.</p>"
   ]
  },
  {
   "cell_type": "code",
   "execution_count": 16,
   "metadata": {},
   "outputs": [
    {
     "data": {
      "text/plain": [
       "['begin', 'begin', 'began', 'begun']"
      ]
     },
     "execution_count": 16,
     "metadata": {},
     "output_type": "execute_result"
    }
   ],
   "source": [
    "re.findall(r\"beg.n\", \"begin begining began begun\")"
   ]
  },
  {
   "cell_type": "markdown",
   "metadata": {},
   "source": [
    "<h2>Anchors - match positions</h2>\n",
    "<p>Anchors are not characters that match content directly, but instead, they match positions within string data</p>"
   ]
  },
  {
   "cell_type": "markdown",
   "metadata": {},
   "source": [
    "<h3>1) Caret ^</h3>\n",
    "<p>The caret ^  is used to match the beginning of a string. It ensures that the regular expression attempts to match starting from the very first character of the string.</p>"
   ]
  },
  {
   "cell_type": "code",
   "execution_count": 17,
   "metadata": {},
   "outputs": [
    {
     "data": {
      "text/plain": [
       "['cat']"
      ]
     },
     "execution_count": 17,
     "metadata": {},
     "output_type": "execute_result"
    }
   ],
   "source": [
    "re.findall(r\"^cat\", \"catapult truncate category\")"
   ]
  },
  {
   "cell_type": "markdown",
   "metadata": {},
   "source": [
    "<h3>2) Dollar sign $</h3>\n",
    "<p>The dollar sign is used to match the end of a string. It checks that the characters preceding it are at the end of the string.</p>"
   ]
  },
  {
   "cell_type": "code",
   "execution_count": 18,
   "metadata": {},
   "outputs": [
    {
     "data": {
      "text/plain": [
       "['dog']"
      ]
     },
     "execution_count": 18,
     "metadata": {},
     "output_type": "execute_result"
    }
   ],
   "source": [
    "re.findall(r\"dog$\", \"The dog race is bulldog\")"
   ]
  },
  {
   "cell_type": "markdown",
   "metadata": {},
   "source": [
    "<h3>3) Word boundary /b</h3>\n",
    "<p>This anchor matches positions where a word character is next to a non-word character, including start and end of a string if it starts or ends with a word character.</p>"
   ]
  },
  {
   "cell_type": "code",
   "execution_count": 19,
   "metadata": {},
   "outputs": [
    {
     "data": {
      "text/plain": [
       "['cat']"
      ]
     },
     "execution_count": 19,
     "metadata": {},
     "output_type": "execute_result"
    }
   ],
   "source": [
    "re.findall(r\"\\bcat\\b\", \"the cat sat on the caterpillar\")"
   ]
  },
  {
   "cell_type": "markdown",
   "metadata": {},
   "source": [
    "<h3>4) Non-word boundary /B</h3>\n",
    "<p>The opposite of \\b, this anchor matches positions between two word characters or two non-word characters. </p>"
   ]
  },
  {
   "cell_type": "code",
   "execution_count": 20,
   "metadata": {},
   "outputs": [
    {
     "data": {
      "text/plain": [
       "['cat']"
      ]
     },
     "execution_count": 20,
     "metadata": {},
     "output_type": "execute_result"
    }
   ],
   "source": [
    "re.findall(r\"\\Bcat\\B\", \"educational category\")"
   ]
  },
  {
   "cell_type": "markdown",
   "metadata": {},
   "source": [
    "<h2>Kleene Operators</h2>\n",
    "<p>In regular expressions, Kleene operators are powerful tools that help match patterns of characters. There are two primary types of Kleene operators</p>"
   ]
  },
  {
   "cell_type": "markdown",
   "metadata": {},
   "source": [
    "<h3>1) Kleene Star *</h3>\n",
    "<p>The Kleene Star * matches zero or more occurrences of the preceding character or regular expression.</p>"
   ]
  },
  {
   "cell_type": "code",
   "execution_count": 21,
   "metadata": {},
   "outputs": [
    {
     "data": {
      "text/plain": [
       "['a', 'a', 'aa', 'a', 'a', 'a', 'a', 'a', 'a', 'aaa', 'aaaa', 'a']"
      ]
     },
     "execution_count": 21,
     "metadata": {},
     "output_type": "execute_result"
    }
   ],
   "source": [
    "re.findall(r\"aa*\", \"a abaabbababb abababab aaa bbb aaaa acbd \")"
   ]
  },
  {
   "cell_type": "markdown",
   "metadata": {},
   "source": [
    "<p>Similarly, the pattern [ab]* means zero or more occurrences of either 'a' or 'b'</p>"
   ]
  },
  {
   "cell_type": "code",
   "execution_count": 41,
   "metadata": {},
   "outputs": [
    {
     "data": {
      "text/plain": [
       "['a',\n",
       " '',\n",
       " 'abaabbababb',\n",
       " '',\n",
       " 'abababab',\n",
       " '',\n",
       " 'aaa',\n",
       " '',\n",
       " 'bbb',\n",
       " '',\n",
       " 'aaaa',\n",
       " '',\n",
       " 'a',\n",
       " '',\n",
       " 'b',\n",
       " '',\n",
       " '',\n",
       " '']"
      ]
     },
     "execution_count": 41,
     "metadata": {},
     "output_type": "execute_result"
    }
   ],
   "source": [
    "re.findall(r\"[ab]*\", \"a abaabbababb abababab aaa bbb aaaa acbd \")"
   ]
  },
  {
   "cell_type": "markdown",
   "metadata": {},
   "source": [
    "<h3>2) Kleene Plus +</h3>\n",
    "<p>The Kleene Plus + matches one or more occurrences of the preceding character or regular expression, making it more specific than the Kleene Star.</p>"
   ]
  },
  {
   "cell_type": "code",
   "execution_count": 42,
   "metadata": {},
   "outputs": [
    {
     "data": {
      "text/plain": [
       "['24']"
      ]
     },
     "execution_count": 42,
     "metadata": {},
     "output_type": "execute_result"
    }
   ],
   "source": [
    "re.findall(r\"[0-9]+\", \"The Greeks enter Troy using the Trojan Horse on April 24\")"
   ]
  },
  {
   "cell_type": "markdown",
   "metadata": {},
   "source": [
    "<h2>Disjunction</h2>\n",
    "<p>Disjunction in regex is the equivalent of logical OR in programming.</p>"
   ]
  },
  {
   "cell_type": "code",
   "execution_count": 22,
   "metadata": {},
   "outputs": [
    {
     "data": {
      "text/plain": [
       "['cat', 'dog']"
      ]
     },
     "execution_count": 22,
     "metadata": {},
     "output_type": "execute_result"
    }
   ],
   "source": [
    "re.findall(r\"cat|dog\", \"I have a cat and a dog.\")"
   ]
  },
  {
   "cell_type": "markdown",
   "metadata": {},
   "source": [
    "<p>If you use parentheses in a regular expression, the default behavior is to capture the text that matches the part of the pattern inside the parentheses</p>"
   ]
  },
  {
   "cell_type": "code",
   "execution_count": 43,
   "metadata": {},
   "outputs": [
    {
     "data": {
      "text/plain": [
       "['ing', 'ing', 'ed', 'ing']"
      ]
     },
     "execution_count": 43,
     "metadata": {},
     "output_type": "execute_result"
    }
   ],
   "source": [
    "re.findall(r\"\\w+(ing|ed)\", \"playing cat bingo loved singing\")"
   ]
  },
  {
   "cell_type": "markdown",
   "metadata": {},
   "source": [
    "<p>To capture the whole pattern that includes both the word and its suffix, you need to adjust the regex pattern with :? inside the parenthesis</p>"
   ]
  },
  {
   "cell_type": "code",
   "execution_count": 44,
   "metadata": {},
   "outputs": [
    {
     "data": {
      "text/plain": [
       "['playing', 'bing', 'loved', 'singing']"
      ]
     },
     "execution_count": 44,
     "metadata": {},
     "output_type": "execute_result"
    }
   ],
   "source": [
    "re.findall(r\"\\w+(?:ing|ed)\", \"playing cat bingo loved singing\")"
   ]
  },
  {
   "cell_type": "markdown",
   "metadata": {},
   "source": [
    "<h2>Example of Nested Groups</h2>"
   ]
  },
  {
   "cell_type": "markdown",
   "metadata": {},
   "source": [
    "<p>Suppose you have a string containing dates, and you want to extract different parts of these dates</p>"
   ]
  },
  {
   "cell_type": "code",
   "execution_count": 25,
   "metadata": {},
   "outputs": [],
   "source": [
    "dates = \"19-02-1978 22-11-2015 30/09/2021\""
   ]
  },
  {
   "cell_type": "markdown",
   "metadata": {},
   "source": [
    "<p>First, let’s extract dates that strictly follow the <b>dd-mm-yyyy</b> format:</p>"
   ]
  },
  {
   "cell_type": "code",
   "execution_count": 45,
   "metadata": {},
   "outputs": [
    {
     "name": "stdout",
     "output_type": "stream",
     "text": [
      "Pattern: \\d{2}-\\d{2}-\\d{4}\n",
      "['19-02-1978', '22-11-2015']\n"
     ]
    }
   ],
   "source": [
    "print(\"Pattern: \\d{2}-\\d{2}-\\d{4}\")\n",
    "print(re.findall(r\"\\d{2}-\\d{2}-\\d{4}\", dates))"
   ]
  },
  {
   "cell_type": "markdown",
   "metadata": {},
   "source": [
    "<p>To break down the dates into day-month and year, you can use nested parentheses</p>"
   ]
  },
  {
   "cell_type": "code",
   "execution_count": 27,
   "metadata": {},
   "outputs": [
    {
     "name": "stdout",
     "output_type": "stream",
     "text": [
      "Pattern: ((\\d{2}-\\d{2})-(\\d{4}))\n",
      "[('19-02-1978', '19-02', '1978'), ('22-11-2015', '22-11', '2015')]\n"
     ]
    }
   ],
   "source": [
    "print(\"Pattern: ((\\d{2}-\\d{2})-(\\d{4}))\")\n",
    "print(re.findall(r\"((\\d{2}-\\d{2})-(\\d{4}))\", dates))"
   ]
  },
  {
   "cell_type": "markdown",
   "metadata": {},
   "source": [
    "<p>To accommodate different separators between day, month, and year</p>"
   ]
  },
  {
   "cell_type": "code",
   "execution_count": 28,
   "metadata": {},
   "outputs": [
    {
     "name": "stdout",
     "output_type": "stream",
     "text": [
      "Pattern: ((\\d{2}[-/]\\d{2})[-/](\\d{4}))\n",
      "[('19-02-1978', '19-02', '1978'), ('22-11-2015', '22-11', '2015'), ('30/09/2021', '30/09', '2021')]\n"
     ]
    }
   ],
   "source": [
    "print(\"Pattern: ((\\d{2}[-/]\\d{2})[-/](\\d{4}))\")\n",
    "print(re.findall(r\"((\\d{2}[-/]\\d{2})[-/](\\d{4}))\", dates))"
   ]
  },
  {
   "cell_type": "markdown",
   "metadata": {},
   "source": [
    "<h2>Greediness and Laziness in Quantifiers</h2>\n",
    "<p>Regular expressions are greedy by default, meaning they match the longest possible string that fits the pattern.The *? quantifier, for instance, makes the * operator lazy, meaning it matches the shortest possible string</p>"
   ]
  },
  {
   "cell_type": "code",
   "execution_count": 29,
   "metadata": {},
   "outputs": [
    {
     "data": {
      "text/plain": [
       "['<p>', '</p>', '<p>', '</p>']"
      ]
     },
     "execution_count": 29,
     "metadata": {},
     "output_type": "execute_result"
    }
   ],
   "source": [
    "re.findall(r\"<.*?>\", \"<p>This is a paragraph.</p> <p>This is another paragraph.</p>\")"
   ]
  },
  {
   "cell_type": "markdown",
   "metadata": {},
   "source": [
    "<h2>Substitution, Capture Groups and ELIZA</h2>\n",
    "<p>In regular expressions, parentheses ( ) are used for grouping parts of a pattern and capturing the matched text. Each group of parentheses captures the corresponding part of the matched string and stores it in a numbered register.</p>"
   ]
  },
  {
   "cell_type": "code",
   "execution_count": 32,
   "metadata": {},
   "outputs": [
    {
     "name": "stdout",
     "output_type": "stream",
     "text": [
      "User:  I am feeling tired\n",
      "ELIZA:  Why are you feeling tired?\n",
      "User:  I am feeling nervous\n",
      "ELIZA:  Why are you feeling nervous?\n",
      "User:  I am feeling happy\n",
      "ELIZA:  Why are you feeling happy?\n"
     ]
    }
   ],
   "source": [
    "docs = [\"I am feeling tired\", \"I am feeling nervous\", \"I am feeling happy\"]\n",
    "for doc in docs:\n",
    "    print(\"User: \",doc)\n",
    "    print(\"ELIZA: \",re.sub(r\"I am feeling (.+)\", r\"Why are you feeling \\1?\", doc))"
   ]
  },
  {
   "cell_type": "markdown",
   "metadata": {},
   "source": [
    "<p>We can use more than one capture group to substitute multiple parts of the text</p>"
   ]
  },
  {
   "cell_type": "code",
   "execution_count": 35,
   "metadata": {},
   "outputs": [
    {
     "name": "stdout",
     "output_type": "stream",
     "text": [
      "User:  My name is John and I live in New York\n",
      "ELIZA:  Hello, John how is the weather at New York!\n"
     ]
    }
   ],
   "source": [
    "doc = \"My name is John and I live in New York\"\n",
    "result = re.sub(r\"My name is (.+) and I live in (.+)\", r\"Hello, \\1 how is the weather at \\2!\", doc)\n",
    "print(\"User: \",doc)\n",
    "print(\"ELIZA: \",result)"
   ]
  },
  {
   "cell_type": "markdown",
   "metadata": {},
   "source": [
    "<h3>Non-capturing Groups</h3>\n",
    "<p>Sometimes we use parentheses just for grouping without needing the text they match to be stored for later use.This can be done using non-capturing groups, which are defined by ?:</p>"
   ]
  },
  {
   "cell_type": "code",
   "execution_count": 39,
   "metadata": {},
   "outputs": [
    {
     "name": "stdout",
     "output_type": "stream",
     "text": [
      "User:  I am feeling quite tired but excited\n",
      "ELIZA:  What makes you feel tired but excited?\n"
     ]
    }
   ],
   "source": [
    "doc = \"I am feeling quite tired but excited\"\n",
    "result = re.sub(r\"I am feeling (?:quite )?(.+)\", r\"What makes you feel \\1?\", doc)\n",
    "print(\"User: \",doc)\n",
    "print(\"ELIZA: \",result)"
   ]
  }
 ],
 "metadata": {
  "kernelspec": {
   "display_name": "Python 3.10.8 ('vsc')",
   "language": "python",
   "name": "python3"
  },
  "language_info": {
   "codemirror_mode": {
    "name": "ipython",
    "version": 3
   },
   "file_extension": ".py",
   "mimetype": "text/x-python",
   "name": "python",
   "nbconvert_exporter": "python",
   "pygments_lexer": "ipython3",
   "version": "3.10.8"
  },
  "orig_nbformat": 4,
  "vscode": {
   "interpreter": {
    "hash": "e25c565d703623dfbb60cb8ab5f509eb161fc3c7d27dcad6d194dd598d06239b"
   }
  }
 },
 "nbformat": 4,
 "nbformat_minor": 2
}
